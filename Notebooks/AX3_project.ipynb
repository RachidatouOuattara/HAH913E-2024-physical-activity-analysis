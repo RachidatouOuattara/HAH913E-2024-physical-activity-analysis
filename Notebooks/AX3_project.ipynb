{
 "cells": [
  {
   "cell_type": "markdown",
   "metadata": {},
   "source": [
    "## **Project : Estimation of Energy Usage by Accelerometric Analysis Methodology**"
   ]
  },
  {
   "cell_type": "markdown",
   "metadata": {},
   "source": [
    "*Experimental protocol : Our study proposes an approach: precisely characterising the energy usage of different exercises using an AX3 accelerometer, we will dissect the biomechanical characteristics of three emblematic exercises: boxing, running and jumping jacks.* "
   ]
  },
  {
   "cell_type": "markdown",
   "metadata": {},
   "source": [
    "### 1. Data collection and pre-processing"
   ]
  },
  {
   "cell_type": "markdown",
   "metadata": {},
   "source": [
    "##### **Packages**\n"
   ]
  },
  {
   "cell_type": "code",
   "execution_count": null,
   "metadata": {
    "vscode": {
     "languageId": "plaintext"
    }
   },
   "outputs": [],
   "source": [
    "pip ???"
   ]
  },
  {
   "cell_type": "markdown",
   "metadata": {},
   "source": [
    "##### **Reading data**"
   ]
  },
  {
   "cell_type": "code",
   "execution_count": null,
   "metadata": {
    "vscode": {
     "languageId": "plaintext"
    }
   },
   "outputs": [],
   "source": [
    "import pandas as pd\n",
    "\n",
    "filename1 = \"../data/????.cwa\"\n",
    "filename2 = \"../data/????.cwa\"\n",
    "filename3 = \"../data/????.cwa\"\n",
    "\n",
    "acc_run = pd.read_csv(\"filename1\", sep=\",\") # running accelerometrer data\n",
    "acc_box = pd.read_csv(\"filename2\", sep=\",\") # boxing accelerometrer data\n",
    "acc_jump = pd.read_csv(\"filename3\", sep=\",\") # jumping jacks accelerometrer data\n"
   ]
  },
  {
   "cell_type": "code",
   "execution_count": null,
   "metadata": {
    "vscode": {
     "languageId": "plaintext"
    }
   },
   "outputs": [],
   "source": [
    "print(acc_run)\n",
    "print(acc_box)\n",
    "print(acc_jump)"
   ]
  },
  {
   "cell_type": "markdown",
   "metadata": {},
   "source": [
    "##### **Plot data**"
   ]
  },
  {
   "cell_type": "code",
   "execution_count": null,
   "metadata": {
    "vscode": {
     "languageId": "plaintext"
    }
   },
   "outputs": [],
   "source": [
    "import matplotlib.pyplot as plt # for plotting and graphing data\n",
    "\n",
    "acc_run.plot()\n",
    "acc_box.plot()\n",
    "acc_jump.plot()"
   ]
  },
  {
   "cell_type": "markdown",
   "metadata": {},
   "source": [
    "##### **Scaling**"
   ]
  },
  {
   "cell_type": "code",
   "execution_count": null,
   "metadata": {
    "vscode": {
     "languageId": "plaintext"
    }
   },
   "outputs": [],
   "source": [
    "def scaling (acc_data): \n",
    "    acc_data.columns = ['Time', 'Accel-X (g)', 'Accel-Y (g)','Accel-Z (g)']\n",
    "    acc_ = acc_data.drop('Time', axis=1)\n",
    "    acc_time = acc_data[['Time']]\n",
    "    acc_x = acc_data[['Accel-X (g)']]\n",
    "    acc_y = acc_data[['Accel-Y (g)']]\n",
    "    acc_z = acc_data[['Accel-Z (g)']]\n",
    "    \n",
    "    return acc_time,acc_,acc_x,acc_y,acc_z\n"
   ]
  },
  {
   "cell_type": "code",
   "execution_count": null,
   "metadata": {
    "vscode": {
     "languageId": "plaintext"
    }
   },
   "outputs": [],
   "source": [
    "# Scaling function\n",
    "time,Acc_run,Acc_x,Acc_y,Acc_z=scaling(acc_run)\n",
    "time,Acc_box,Acc_x,Acc_y,Acc_z=scaling(acc_box)\n",
    "time,acc_jump,Acc_x,Acc_y,Acc_z=scaling(acc_jump)"
   ]
  },
  {
   "cell_type": "markdown",
   "metadata": {},
   "source": [
    "### 2. Visualisation and analysis"
   ]
  },
  {
   "cell_type": "code",
   "execution_count": null,
   "metadata": {
    "vscode": {
     "languageId": "plaintext"
    }
   },
   "outputs": [],
   "source": [
    "import matplotlib.pyplot as plt # pour tracer et visualiser les données sous forme de graphiques\n",
    "\n",
    "plt.figure(figsize=(19,6))\n",
    "\n",
    "plt.subplots(1,3,1)\n",
    "\n",
    "plt.plot(time,Acc_run)\n",
    "plt.xlabel('Time (m)') \n",
    "plt.ylabel('Titre') \n",
    "plt.gca().legend(('Accel-X (g)','Accel-Y (g)','Accel-Z (g)'))\n",
    "plt.grid()\n",
    "\n",
    "plt.subplots(1,3,2)\n",
    "\n",
    "plt.plot(time,Acc_box)\n",
    "plt.xlabel('Time (m)') \n",
    "plt.ylabel('Titre') \n",
    "plt.gca().legend(('Accel-X (g)','Accel-Y (g)','Accel-Z (g)'))\n",
    "plt.grid()\n",
    "\n",
    "plt.subplots(1,3,3)\n",
    "\n",
    "plt.plot(time,Acc_jump)\n",
    "plt.xlabel('Time (m)') \n",
    "plt.ylabel('Titre') \n",
    "plt.gca().legend(('Accel-X (g)','Accel-Y (g)','Accel-Z (g)'))\n",
    "plt.grid()"
   ]
  },
  {
   "cell_type": "markdown",
   "metadata": {},
   "source": [
    "##### **ENMO « Euclidian Norm Minus One »**\n",
    "\n",
    "√(x² + y² + z²) − 1 (avec 1 valeur de gravité)\n",
    "\n",
    "https://www.sciencedirect.com/science/article/pii/S0398762018314858"
   ]
  },
  {
   "cell_type": "code",
   "execution_count": null,
   "metadata": {
    "vscode": {
     "languageId": "plaintext"
    }
   },
   "outputs": [],
   "source": [
    "def ENMO (acc_data):\n",
    "    acc_data['ENMO'] = np.sqrt(acc_data['Accel-X (g)']**2 + acc_data['Accel-Y (g)']**2 + acc_data['Accel-Z (g)']**2) - 1  # formula\n",
    "    acc_data['ENMO'] = acc_data['ENMO'].clip(lower=0)  # data normalisation \n",
    "    ENMO=acc_data[['ENMO']]\n",
    "    return ENMO"
   ]
  },
  {
   "cell_type": "code",
   "execution_count": null,
   "metadata": {
    "vscode": {
     "languageId": "plaintext"
    }
   },
   "outputs": [],
   "source": [
    "# ENMO function\n",
    "ENMO_run=scaling(Acc_run)\n",
    "ENMO_box=scaling(Acc_box)\n",
    "ENMO_jump=scaling(Acc_jump)"
   ]
  },
  {
   "cell_type": "code",
   "execution_count": null,
   "metadata": {
    "vscode": {
     "languageId": "plaintext"
    }
   },
   "outputs": [],
   "source": [
    "import matplotlib.pyplot as plt\n",
    "\n",
    "plt.figure(figsize=(19,6))\n",
    "\n",
    "plt.plot(time, ENMO, label='ENMO')\n",
    "plt.xlabel('Time')\n",
    "plt.ylabel('ENMO')\n",
    "plt.title('Titre')\n",
    "plt.legend()\n",
    "plt.grid()\n",
    "plt.show()"
   ]
  },
  {
   "cell_type": "markdown",
   "metadata": {},
   "source": [
    "##### **Integration over EPOCH**"
   ]
  },
  {
   "cell_type": "code",
   "execution_count": null,
   "metadata": {
    "vscode": {
     "languageId": "plaintext"
    }
   },
   "outputs": [],
   "source": []
  },
  {
   "cell_type": "markdown",
   "metadata": {},
   "source": [
    "##### **Count of duration in each intensity level /Filter**"
   ]
  },
  {
   "cell_type": "code",
   "execution_count": null,
   "metadata": {
    "vscode": {
     "languageId": "plaintext"
    }
   },
   "outputs": [],
   "source": []
  },
  {
   "cell_type": "markdown",
   "metadata": {},
   "source": [
    "##### **Filter**"
   ]
  },
  {
   "cell_type": "markdown",
   "metadata": {},
   "source": [
    "### 3. Estimated energy costs"
   ]
  },
  {
   "cell_type": "code",
   "execution_count": null,
   "metadata": {
    "vscode": {
     "languageId": "plaintext"
    }
   },
   "outputs": [],
   "source": []
  }
 ],
 "metadata": {
  "language_info": {
   "name": "python"
  }
 },
 "nbformat": 4,
 "nbformat_minor": 2
}
